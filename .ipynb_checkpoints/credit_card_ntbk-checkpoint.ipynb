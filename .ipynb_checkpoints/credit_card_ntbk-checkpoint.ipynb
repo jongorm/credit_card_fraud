{
 "cells": [
  {
   "cell_type": "markdown",
   "id": "719d733d",
   "metadata": {},
   "source": [
    "Use autoencoder to initialize feedforward."
   ]
  },
  {
   "cell_type": "markdown",
   "id": "d52b5775",
   "metadata": {},
   "source": [
    "## __Imports__"
   ]
  },
  {
   "cell_type": "code",
   "execution_count": 375,
   "id": "95ba21bf",
   "metadata": {},
   "outputs": [],
   "source": [
    "#general\n",
    "import os\n",
    "import time\n",
    "\n",
    "#data structures\n",
    "import numpy as np\n",
    "import pandas as pd\n",
    "from collections import defaultdict\n",
    "\n",
    "#pytorch\n",
    "import torch\n",
    "import torch.nn as nn\n",
    "import torch.nn.functional as F\n",
    "from torch.utils.data import Dataset, DataLoader\n",
    "import torch.optim as optim\n",
    "\n",
    "#plotting\n",
    "import matplotlib.pyplot as plt\n",
    "\n",
    "#scikit-learn\n",
    "from sklearn.model_selection import train_test_split, StratifiedShuffleSplit, StratifiedKFold\n",
    "from sklearn.pipeline import Pipeline\n",
    "from sklearn.base import BaseEstimator, TransformerMixin\n",
    "from sklearn.preprocessing import StandardScaler\n",
    "from sklearn.compose import ColumnTransformer"
   ]
  },
  {
   "cell_type": "markdown",
   "id": "873c4378",
   "metadata": {},
   "source": [
    "## __Model Configuration__"
   ]
  },
  {
   "cell_type": "code",
   "execution_count": 376,
   "id": "98f43eb0",
   "metadata": {},
   "outputs": [],
   "source": [
    "CONFIG = {\"seed\": 2022,\n",
    "          \"epochs\": 100,\n",
    "          \"model_name\": \"credit_card_net_v0\",\n",
    "          \"device\": torch.device(\"cuda\" if torch.cuda.is_available() else \"cpu\"),\n",
    "          \"n_fold\": 5,\n",
    "          \"learning_rate\": 0.001,\n",
    "          \"train_batch_size\": 200,\n",
    "          \"valid_batch_size\": 400,\n",
    "          \"num_class\": 2,\n",
    "          \"weight_decay\": 1e-6,\n",
    "          \"min_lr\": 1e-6,\n",
    "          \"T_max\": 500.0,\n",
    "         }"
   ]
  },
  {
   "cell_type": "markdown",
   "id": "1a4e92ec",
   "metadata": {},
   "source": [
    "## __Random Seed Settings__"
   ]
  },
  {
   "cell_type": "code",
   "execution_count": 377,
   "id": "324cc184",
   "metadata": {},
   "outputs": [],
   "source": [
    "def seeds_setting(seed=101):\n",
    "    #Ensures that repeated runs will produce the same results\n",
    "    np.random.seed(seed)\n",
    "    torch.manual_seed(seed)\n",
    "    torch.cuda.manual_seed(seed)\n",
    "    os.environ['PYTHONHASHSEED'] = str(seed)\n",
    "\n",
    "seeds_setting(CONFIG['seed'])"
   ]
  },
  {
   "cell_type": "markdown",
   "id": "f6c6bf2b",
   "metadata": {},
   "source": [
    "## __Files and Splits__"
   ]
  },
  {
   "cell_type": "markdown",
   "id": "41c8da82",
   "metadata": {},
   "source": [
    "Set directory and file name macros."
   ]
  },
  {
   "cell_type": "code",
   "execution_count": 378,
   "id": "b669f830",
   "metadata": {},
   "outputs": [],
   "source": [
    "ROOT_DIR = '/home/jonathan/Documents/Py_Projects/dl_gen_env/credit_card'\n",
    "DATA_FILE = 'creditcard.csv'"
   ]
  },
  {
   "cell_type": "markdown",
   "id": "d1fda436",
   "metadata": {},
   "source": [
    "Load the data file into a pandas dataframe."
   ]
  },
  {
   "cell_type": "code",
   "execution_count": 379,
   "id": "8efaba04",
   "metadata": {},
   "outputs": [],
   "source": [
    "credit_full = pd.read_csv(os.path.join(ROOT_DIR, DATA_FILE), header=0)"
   ]
  },
  {
   "cell_type": "markdown",
   "id": "3f4e182b",
   "metadata": {},
   "source": [
    "Drop the time variable."
   ]
  },
  {
   "cell_type": "code",
   "execution_count": 380,
   "id": "e6fd72e9",
   "metadata": {},
   "outputs": [],
   "source": [
    "credit_full = credit_full.drop(\"Time\", axis=1)"
   ]
  },
  {
   "cell_type": "markdown",
   "id": "aea3f603",
   "metadata": {},
   "source": [
    "Split the DATA_FILE into training and test sets."
   ]
  },
  {
   "cell_type": "code",
   "execution_count": 381,
   "id": "9cb7c222",
   "metadata": {},
   "outputs": [],
   "source": [
    "def train_test_split_to_csv(df, directory_to_save, n_splits=2, test_size=0.25, random_state=CONFIG['seed']):\n",
    "\n",
    "    #Create StratifiedShuffleSplit object.\n",
    "    split = StratifiedShuffleSplit(n_splits=1, test_size=0.25, random_state=CONFIG['seed'])\n",
    "    \n",
    "    #Split dataset using stratification on the label.\n",
    "    for train_index, test_index in split.split(credit_full, credit_full[\"Class\"]):\n",
    "        train_set = credit_full.loc[train_index]\n",
    "        test_set = credit_full.loc[test_index]\n",
    "\n",
    "    train_set.to_csv(os.path.join(directory_to_save, \"TRAIN.csv\"), index=False)\n",
    "    test_set.to_csv(os.path.join(directory_to_save, \"TEST.csv\"), index=False)\n",
    "   \n",
    "\n",
    "#train_test_split_to_csv(credit_full, ROOT_DIR)"
   ]
  },
  {
   "cell_type": "markdown",
   "id": "8fe420a0",
   "metadata": {},
   "source": [
    "Import training dataset creating in previous function."
   ]
  },
  {
   "cell_type": "code",
   "execution_count": 382,
   "id": "91ff81de",
   "metadata": {},
   "outputs": [],
   "source": [
    "credit_train = pd.read_csv(os.path.join(ROOT_DIR, \"TRAIN.csv\"), header=0)"
   ]
  },
  {
   "cell_type": "markdown",
   "id": "dac37efa",
   "metadata": {},
   "source": [
    "## __Visualization__"
   ]
  },
  {
   "cell_type": "code",
   "execution_count": 383,
   "id": "738b0fcd",
   "metadata": {
    "scrolled": true
   },
   "outputs": [
    {
     "data": {
      "image/png": "[encoded data removed]",
      "text/plain": [
       "<Figure size 432x288 with 1 Axes>"
      ]
     },
     "metadata": {
      "needs_background": "light"
     },
     "output_type": "display_data"
    }
   ],
   "source": [
    "font = {'fontname':'serif'}\n",
    "\n",
    "fig = credit_train['Class'].value_counts().plot(kind='bar', linewidth = 5, color='blue')\n",
    "plt.title('Fraud Distribution', fontsize = 15, **font)\n",
    "#rotation makes sure the ticks are oriented toward the viewer\n",
    "\n",
    "plt.xticks(rotation=0, fontsize=12, **font)\n",
    "plt.yticks(fontsize=12, **font)\n",
    "fig.set_xticklabels(['Not Fraud', 'Fraud'])\n",
    "\n",
    "fontdict = {'family':'serif', 'color':'red', 'size':12}\n",
    "plt.text(0.6, 0.8, \n",
    "         f'Not Fraud: {credit_train.Class.value_counts()[0]/len(credit_train):.5f} \\nFraud: {credit_train.Class.value_counts()[1]/len(credit_train):.5f}', \n",
    "         transform=fig.transAxes, fontdict=fontdict)\n",
    "\n",
    "plt.show()"
   ]
  },
  {
   "cell_type": "code",
   "execution_count": 384,
   "id": "c582cd67",
   "metadata": {},
   "outputs": [],
   "source": [
    "fraud = credit_train[credit_train['Class']==1]['Amount']\n",
    "not_fraud = credit_train[credit_train['Class']==0]['Amount']"
   ]
  },
  {
   "cell_type": "code",
   "execution_count": 385,
   "id": "04ae37d9",
   "metadata": {
    "scrolled": false
   },
   "outputs": [
    {
     "data": {
      "image/png": "[encoded data removed]",
      "text/plain": [
       "<Figure size 1080x360 with 1 Axes>"
      ]
     },
     "metadata": {
      "needs_background": "light"
     },
     "output_type": "display_data"
    }
   ],
   "source": [
    "font = {'fontname':'serif'}\n",
    "\n",
    "plt.figure(figsize=(15, 5))\n",
    "plt.scatter(x=not_fraud.index, y=not_fraud.values, color='b', s=10, label='Not Fraud')\n",
    "plt.scatter(x=fraud.index, y=fraud.values, color='r', s=7, label='Fraud')\n",
    "plt.title('Transaction Amounts', **font)\n",
    "plt.ylabel('Amount', fontsize=12, **font)\n",
    "plt.xticks([])\n",
    "plt.legend()\n",
    "plt.annotate(f'Max fraud transaction amount: {np.max(fraud.values)}', xy=(0.1, 0.9), \n",
    "             xycoords='axes fraction', fontsize=12, **font)\n",
    "plt.show()"
   ]
  },
  {
   "cell_type": "markdown",
   "id": "2f343d89",
   "metadata": {},
   "source": [
    "## __Create Folds__"
   ]
  },
  {
   "cell_type": "code",
   "execution_count": 386,
   "id": "bfe82b1d",
   "metadata": {},
   "outputs": [],
   "source": [
    "skf = StratifiedKFold(n_splits=CONFIG['n_fold'])\n",
    "\n",
    "for fold, (_, val_) in enumerate(skf.split(X=credit_train, y=credit_train.Class)):\n",
    "    #create a row that specifies the fold the data point is in.\n",
    "    credit_train.loc[val_, \"kfold\"] = fold"
   ]
  },
  {
   "cell_type": "markdown",
   "id": "6e51b3b3",
   "metadata": {},
   "source": [
    "## __Pytorch Dataset__"
   ]
  },
  {
   "cell_type": "markdown",
   "id": "5624ddc0",
   "metadata": {},
   "source": [
    "Create a custom data loader."
   ]
  },
  {
   "cell_type": "code",
   "execution_count": 387,
   "id": "8df267fe",
   "metadata": {},
   "outputs": [],
   "source": [
    "class CreditDataset(Dataset):\n",
    "    def __init__(self, df, transforms=None):\n",
    "        \n",
    "        self.df = df\n",
    "        #ndarray for predictors and labels\n",
    "        self.X = torch.from_numpy(df.drop([\"Class\", \"kfold\"], axis=1).values).float()\n",
    "        self.y = torch.from_numpy(df.loc[:, [\"Class\"]].values).float()\n",
    "                  \n",
    "    def __getitem__(self, index):\n",
    "        return self.X[index], self.y[index]\n",
    "        \n",
    "    def __len__(self):\n",
    "        return len(self.df)"
   ]
  },
  {
   "cell_type": "markdown",
   "id": "9f138e9b",
   "metadata": {},
   "source": [
    "## __Model__"
   ]
  },
  {
   "cell_type": "code",
   "execution_count": 388,
   "id": "d3df41db",
   "metadata": {},
   "outputs": [],
   "source": [
    "class FeedForward(nn.Module):\n",
    "    def __init__(self):\n",
    "        super().__init__()\n",
    "        self.fc1 = nn.Linear(29, 16)\n",
    "        self.fc2 = nn.Linear(16, 18)\n",
    "        self.fc3 = nn.Linear(18, 20)\n",
    "        self.fc4 = nn.Linear(20, 24)\n",
    "        self.fc5 = nn.Linear(24, 1)\n",
    "    \n",
    "    def forward(self, x):\n",
    "        x = F.relu(self.fc1(x))\n",
    "        x = F.relu(self.fc2(x))\n",
    "        x = F.dropout(x, p=0.25)\n",
    "        x = F.relu(self.fc3(x))\n",
    "        x = F.relu(self.fc4(x))\n",
    "        x = F.sigmoid(self.fc5(x))\n",
    "        return x  "
   ]
  },
  {
   "cell_type": "markdown",
   "id": "f6dc417c",
   "metadata": {},
   "source": [
    "Instantiate model."
   ]
  },
  {
   "cell_type": "code",
   "execution_count": 389,
   "id": "35eee423",
   "metadata": {},
   "outputs": [
    {
     "data": {
      "text/plain": [
       "FeedForward(\n",
       "  (fc1): Linear(in_features=29, out_features=16, bias=True)\n",
       "  (fc2): Linear(in_features=16, out_features=18, bias=True)\n",
       "  (fc3): Linear(in_features=18, out_features=20, bias=True)\n",
       "  (fc4): Linear(in_features=20, out_features=24, bias=True)\n",
       "  (fc5): Linear(in_features=24, out_features=1, bias=True)\n",
       ")"
      ]
     },
     "execution_count": 389,
     "metadata": {},
     "output_type": "execute_result"
    }
   ],
   "source": [
    "model = FeedForward()\n",
    "model.to(CONFIG[\"device\"])"
   ]
  },
  {
   "cell_type": "markdown",
   "id": "859e6a1c",
   "metadata": {},
   "source": [
    "Specify loss criterion."
   ]
  },
  {
   "cell_type": "code",
   "execution_count": 415,
   "id": "15deb3c0",
   "metadata": {},
   "outputs": [],
   "source": [
    "def criterion(outputs, labels, weight=None):\n",
    "    #weights are calculated per batch.\n",
    "    return nn.BCELoss(weight=weight)(outputs, labels)"
   ]
  },
  {
   "cell_type": "markdown",
   "id": "7b34b6f0",
   "metadata": {},
   "source": [
    "Calculate sample weights. Use weights calculated from effective number of samples."
   ]
  },
  {
   "cell_type": "code",
   "execution_count": 416,
   "id": "a756b603",
   "metadata": {},
   "outputs": [],
   "source": [
    "def weights_ENS(labels, beta=0.99):\n",
    "    \n",
    "    #Calculate weight dictionary for labels.\n",
    "    \n",
    "    labels = labels.numpy()\n",
    "    val, counts = np.unique(labels, return_counts=True)\n",
    "    \n",
    "    weights = {int(val) : (1-beta)/(1-np.power(beta, nc)) for val, nc in zip(val, counts)}\n",
    "    \n",
    "    return weights"
   ]
  },
  {
   "cell_type": "markdown",
   "id": "c98f4e07",
   "metadata": {},
   "source": [
    "## __Training Function__"
   ]
  },
  {
   "cell_type": "code",
   "execution_count": 417,
   "id": "0b5596a3",
   "metadata": {},
   "outputs": [],
   "source": [
    "def train_epoch(model, dataloader, optimizer, device, epoch, scheduler=None):\n",
    "    \n",
    "    total_steps = len(dataloader)\n",
    "    running_loss = 0.0\n",
    "    dataset_size = 0\n",
    "    \n",
    "    for i, (batch, labels) in enumerate(dataloader):\n",
    "        \n",
    "        batch.to(device, dtype=torch.float)\n",
    "        labels.to(device, dtype=torch.float)\n",
    "        \n",
    "        batch_size = len(batch)\n",
    "        \n",
    "        #forward pass\n",
    "        outputs = model(batch)\n",
    "        \n",
    "        #calculate label weights for unbalanced data\n",
    "        weights_dict = weights_ENS(labels)\n",
    "        print(f\"WEIGHT DICT+___________________________+ {weights_dict}\")\n",
    "        weights_list = [weights_dict[int(label)] for label in labels]\n",
    "        \n",
    "        #eval for pass\n",
    "        loss = criterion(outputs, labels, weight=torch.from_numpy(np.asarray(weights_list)))\n",
    "        \n",
    "        #reset gradients for next pass\n",
    "        optimizer.zero_grad()\n",
    "        #backprop\n",
    "        loss.backward()\n",
    "        #update parameters\n",
    "        optimizer.step()\n",
    "        \n",
    "        running_loss += (loss.item() * batch_size)\n",
    "        dataset_size += batch_size\n",
    "        \n",
    "        epoch_loss = running_loss / dataset_size\n",
    "        \n",
    "        if scheduler is not None:\n",
    "            scheduler.step()\n",
    "        \n",
    "        if (i+1)%2000 == 0:\n",
    "            print(f\"Epoch is {Epoch} and iteration {i+1} / {total_steps} has loss {loss.item():.4f}\")\n",
    "            \n",
    "    return epoch_loss"
   ]
  },
  {
   "cell_type": "markdown",
   "id": "f231c3c4",
   "metadata": {},
   "source": [
    "## __Validation Function__"
   ]
  },
  {
   "cell_type": "markdown",
   "id": "970187e2",
   "metadata": {},
   "source": [
    "The inference_mode() decorator serves the same purpose as the ```with torch.no_grad():``` wrapper."
   ]
  },
  {
   "cell_type": "code",
   "execution_count": 418,
   "id": "b460cdb5",
   "metadata": {},
   "outputs": [],
   "source": [
    "@torch.inference_mode()\n",
    "def validate_epoch(model, dataloader, device, epoch):\n",
    "    \n",
    "    running_loss = 0.0\n",
    "    dataset_size = 0\n",
    "    \n",
    "    for i, (batch, labels) in enumerate(dataloader):\n",
    "                \n",
    "        batch.to(device, dtype=torch.float)\n",
    "        labels.to(device, dtype=torch.float)\n",
    "        \n",
    "        batch_size = len(batch)\n",
    "        \n",
    "        #forward pass\n",
    "        outputs = model(batch)\n",
    "        \n",
    "        #calculate label weights for unbalanced data\n",
    "        weights_dict = weights_ENS(labels)\n",
    "        weights_list = [weights_dict[int(label)] for label in labels]\n",
    "        \n",
    "        #eval for pass\n",
    "        loss = criterion(outputs, labels, weight=torch.from_numpy(np.asarray(weights_list)))\n",
    "        \n",
    "        batch_size = len(batch)\n",
    "        running_loss += (loss.item() * batch_size)\n",
    "        dataset_size += batch_size\n",
    "        \n",
    "        epoch_loss = running_loss / dataset_size\n",
    "        \n",
    "    return epoch_loss "
   ]
  },
  {
   "cell_type": "markdown",
   "id": "9d3f3b5d",
   "metadata": {},
   "source": [
    "## __Training of the Network__"
   ]
  },
  {
   "cell_type": "code",
   "execution_count": 419,
   "id": "d9d125bf",
   "metadata": {},
   "outputs": [],
   "source": [
    "def train_network(model, optimizer, scheduler, device, num_epochs, train_loader, validate_loader):\n",
    "    \n",
    "    if torch.cuda.is_available():\n",
    "        print(f\"[INFO] USING GPU: {torch.cuda.get_device_name}\")\n",
    "    \n",
    "    start_time = time.time()\n",
    "    \n",
    "    #dictionary for training and validation losses\n",
    "    history = defaultdict(list)\n",
    "    \n",
    "    #initialize because we will track the best loss for all epochs.\n",
    "    best_epoch_loss = np.inf\n",
    "    \n",
    "    for epoch in range(1, num_epochs + 1):\n",
    "        \n",
    "        train_epoch_loss = train_epoch(model, train_loader, optimizer, device, epoch, scheduler)\n",
    "        validate_epoch_lost = validate_epoch(model, validate_loader, device, epoch)\n",
    "        \n",
    "        history['Train Loss'].append(train_epoch_loss)\n",
    "        history['Valid Loss'].append(val_epoch_loss)\n",
    "        \n",
    "        #save new best model\n",
    "        if val_epoch_loss <= best_epoch_loss:\n",
    "            print(f\"[INFO] NEW BEST MODEL: {best_epoch_loss:.5f} -----------> {val_epoch_loss:.5f}\")\n",
    "            best_epoch_loss = val_epoch_loss\n",
    "            PATH = \"Loss{best_epoch_loss}_Epoch{epoch}.bin\"\n",
    "            torch.save(model.state_dict(), PATH)\n",
    "            \n",
    "    #record training time\n",
    "    end = time.time()\n",
    "    time_elapsed = end - start\n",
    "    \n",
    "    print(f\"Training took {time_elapsed // 3600}h {time_elapsed % 3600}m {(time_elapsed % 3600) % 60}\")\n",
    "    print(f\"Best Loss: {best_loss:.5f}\")\n",
    "    \n",
    "    return model, history        "
   ]
  },
  {
   "cell_type": "markdown",
   "id": "1150bd34",
   "metadata": {},
   "source": [
    "Specify optimizer and scheduler."
   ]
  },
  {
   "cell_type": "code",
   "execution_count": 420,
   "id": "1c9c3b80",
   "metadata": {
    "scrolled": true
   },
   "outputs": [],
   "source": [
    "optimizer = optim.Adam(model.parameters(), lr=CONFIG['learning_rate'], \n",
    "                       weight_decay=CONFIG['weight_decay'])\n",
    "\n",
    "scheduler = optim.lr_scheduler.CosineAnnealingLR(optimizer, T_max=CONFIG[\"T_max\"], eta_min=CONFIG[\"min_lr\"])"
   ]
  },
  {
   "cell_type": "markdown",
   "id": "005a6503",
   "metadata": {},
   "source": [
    "## __Pipeline Transformations__"
   ]
  },
  {
   "cell_type": "markdown",
   "id": "7b8720a7",
   "metadata": {},
   "source": [
    "Make a custom standard scaler to preserve the pandas data structure (built-in scikit-learn transformations will convert the data to a numpy array, which removes index and column labels (which is everything that makes pandas nice)."
   ]
  },
  {
   "cell_type": "code",
   "execution_count": 421,
   "id": "b9746648",
   "metadata": {},
   "outputs": [],
   "source": [
    "class PandasStandardScaler(BaseEstimator, TransformerMixin):\n",
    "    \n",
    "    def __init__(self):\n",
    "        self.stand_scale = None\n",
    "        \n",
    "    def fit(self, X, y=None):\n",
    "        self.stand_scale = StandardScaler().fit(X)\n",
    "        return self\n",
    "    \n",
    "    def transform(self, X):\n",
    "        #transform on the numpy version\n",
    "        np_Xss = self.stand_scale.transform(X)\n",
    "        #convert back to pandas dataframe.\n",
    "        pd_Xss = pd.DataFrame(np_Xss, index=X.index, columns=X.columns)\n",
    "        return pd_Xss"
   ]
  },
  {
   "cell_type": "markdown",
   "id": "a2589e12",
   "metadata": {},
   "source": [
    "Define numeric variables."
   ]
  },
  {
   "cell_type": "code",
   "execution_count": 422,
   "id": "86cf9d30",
   "metadata": {},
   "outputs": [],
   "source": [
    "def get_types(df, types):\n",
    "    \n",
    "    #Returns an array of all column names where the datatype is in 'types'.\n",
    "    \n",
    "    return df.select_dtypes(include=types).columns.values"
   ]
  },
  {
   "cell_type": "markdown",
   "id": "0b158102",
   "metadata": {},
   "source": [
    "Create sklearn pipeline."
   ]
  },
  {
   "cell_type": "code",
   "execution_count": 423,
   "id": "ec7b466c",
   "metadata": {},
   "outputs": [],
   "source": [
    "def pipeline(numeric_vars=None, categorical_vars=None):\n",
    "\n",
    "    #This is made into a function so that column transformer can take \n",
    "    #varying arguments for numeric and categorical types, without\n",
    "    #having to know the exact column names at the creation of the pipeline.\n",
    "    \n",
    "    numerical_pipeline = Pipeline([('standardize', PandasStandardScaler()),])\n",
    "    full_pipeline = Pipeline([('scaling', ColumnTransformer([\n",
    "                            ('numerical', numerical_pipeline, numeric_vars),\n",
    "                        ])),\n",
    "                    ])\n",
    "    return full_pipeline"
   ]
  },
  {
   "cell_type": "markdown",
   "id": "44cb307a",
   "metadata": {},
   "source": [
    "Prepare data loaders."
   ]
  },
  {
   "cell_type": "code",
   "execution_count": 424,
   "id": "b258fbdd",
   "metadata": {},
   "outputs": [],
   "source": [
    "def loaders(data, fold, drops=None):\n",
    "    \n",
    "    #separate into training and validation datasets\n",
    "    df_train = data[data.kfold!=fold].reset_index(drop=True)\n",
    "    df_valid = data[data.kfold==fold].reset_index(drop=True)\n",
    "    \n",
    "    #transform data\n",
    "    pl = pipeline(numeric_vars=get_types(df_train, ['float64']))\n",
    "    pl.fit_transform(df_train)\n",
    "    pl.fit(df_valid)\n",
    "    \n",
    "    #create dataset\n",
    "    train_dataset = CreditDataset(df_train)\n",
    "    valid_dataset = CreditDataset(df_valid)\n",
    "    \n",
    "    #make dataloaders for the datasets\n",
    "    train_loader = DataLoader(train_dataset, batch_size=CONFIG['train_batch_size'], \n",
    "                              num_workers=2, shuffle=True, pin_memory=True, drop_last=True)\n",
    "    valid_loader = DataLoader(valid_dataset, batch_size=CONFIG['valid_batch_size'], \n",
    "                              num_workers=2, shuffle=False, pin_memory=True)\n",
    "    \n",
    "    return train_loader, valid_loader  "
   ]
  },
  {
   "cell_type": "markdown",
   "id": "31a7864d",
   "metadata": {},
   "source": [
    "Get dataloaders."
   ]
  },
  {
   "cell_type": "code",
   "execution_count": 425,
   "id": "737ce2ea",
   "metadata": {},
   "outputs": [],
   "source": [
    "train_loader, valid_loader = loaders(credit_train, 0)"
   ]
  },
  {
   "cell_type": "markdown",
   "id": "19e0ab31",
   "metadata": {},
   "source": [
    "Start training."
   ]
  },
  {
   "cell_type": "code",
   "execution_count": 426,
   "id": "cf7b35f7",
   "metadata": {
    "scrolled": true
   },
   "outputs": [
    {
     "name": "stdout",
     "output_type": "stream",
     "text": [
      "WEIGHT DICT+___________________________+ {0: 0.01156514595416565, 1: 1.0}\n"
     ]
    },
    {
     "name": "stderr",
     "output_type": "stream",
     "text": [
      "/home/jonathan/Software/anaconda3/envs/dl_gen_env/lib/python3.9/site-packages/torch/nn/functional.py:1944: UserWarning: nn.functional.sigmoid is deprecated. Use torch.sigmoid instead.\n",
      "  warnings.warn(\"nn.functional.sigmoid is deprecated. Use torch.sigmoid instead.\")\n"
     ]
    },
    {
     "ename": "RuntimeError",
     "evalue": "output with shape [200, 1] doesn't match the broadcast shape [200, 200]",
     "output_type": "error",
     "traceback": [
      "\u001b[0;31m---------------------------------------------------------------------------\u001b[0m",
      "\u001b[0;31mRuntimeError\u001b[0m                              Traceback (most recent call last)",
      "Input \u001b[0;32mIn [426]\u001b[0m, in \u001b[0;36m<cell line: 1>\u001b[0;34m()\u001b[0m\n\u001b[0;32m----> 1\u001b[0m model, history \u001b[38;5;241m=\u001b[39m \u001b[43mtrain_network\u001b[49m\u001b[43m(\u001b[49m\u001b[43mmodel\u001b[49m\u001b[43m,\u001b[49m\u001b[43m \u001b[49m\u001b[43moptimizer\u001b[49m\u001b[43m,\u001b[49m\u001b[43m \u001b[49m\u001b[43mscheduler\u001b[49m\u001b[43m,\u001b[49m\u001b[43m \u001b[49m\n\u001b[1;32m      2\u001b[0m \u001b[43m                               \u001b[49m\u001b[43mCONFIG\u001b[49m\u001b[43m[\u001b[49m\u001b[38;5;124;43m\"\u001b[39;49m\u001b[38;5;124;43mdevice\u001b[39;49m\u001b[38;5;124;43m\"\u001b[39;49m\u001b[43m]\u001b[49m\u001b[43m,\u001b[49m\u001b[43m \u001b[49m\u001b[43mCONFIG\u001b[49m\u001b[43m[\u001b[49m\u001b[38;5;124;43m\"\u001b[39;49m\u001b[38;5;124;43mepochs\u001b[39;49m\u001b[38;5;124;43m\"\u001b[39;49m\u001b[43m]\u001b[49m\u001b[43m,\u001b[49m\n\u001b[1;32m      3\u001b[0m \u001b[43m                              \u001b[49m\u001b[43mtrain_loader\u001b[49m\u001b[43m,\u001b[49m\u001b[43m \u001b[49m\u001b[43mvalid_loader\u001b[49m\u001b[43m)\u001b[49m\n",
      "Input \u001b[0;32mIn [419]\u001b[0m, in \u001b[0;36mtrain_network\u001b[0;34m(model, optimizer, scheduler, device, num_epochs, train_loader, validate_loader)\u001b[0m\n\u001b[1;32m     12\u001b[0m best_epoch_loss \u001b[38;5;241m=\u001b[39m np\u001b[38;5;241m.\u001b[39minf\n\u001b[1;32m     14\u001b[0m \u001b[38;5;28;01mfor\u001b[39;00m epoch \u001b[38;5;129;01min\u001b[39;00m \u001b[38;5;28mrange\u001b[39m(\u001b[38;5;241m1\u001b[39m, num_epochs \u001b[38;5;241m+\u001b[39m \u001b[38;5;241m1\u001b[39m):\n\u001b[0;32m---> 16\u001b[0m     train_epoch_loss \u001b[38;5;241m=\u001b[39m \u001b[43mtrain_epoch\u001b[49m\u001b[43m(\u001b[49m\u001b[43mmodel\u001b[49m\u001b[43m,\u001b[49m\u001b[43m \u001b[49m\u001b[43mtrain_loader\u001b[49m\u001b[43m,\u001b[49m\u001b[43m \u001b[49m\u001b[43moptimizer\u001b[49m\u001b[43m,\u001b[49m\u001b[43m \u001b[49m\u001b[43mdevice\u001b[49m\u001b[43m,\u001b[49m\u001b[43m \u001b[49m\u001b[43mepoch\u001b[49m\u001b[43m,\u001b[49m\u001b[43m \u001b[49m\u001b[43mscheduler\u001b[49m\u001b[43m)\u001b[49m\n\u001b[1;32m     17\u001b[0m     validate_epoch_lost \u001b[38;5;241m=\u001b[39m validate_epoch(model, validate_loader, device, epoch)\n\u001b[1;32m     19\u001b[0m     history[\u001b[38;5;124m'\u001b[39m\u001b[38;5;124mTrain Loss\u001b[39m\u001b[38;5;124m'\u001b[39m]\u001b[38;5;241m.\u001b[39mappend(train_epoch_loss)\n",
      "Input \u001b[0;32mIn [417]\u001b[0m, in \u001b[0;36mtrain_epoch\u001b[0;34m(model, dataloader, optimizer, device, epoch, scheduler)\u001b[0m\n\u001b[1;32m     20\u001b[0m weights_list \u001b[38;5;241m=\u001b[39m [weights_dict[\u001b[38;5;28mint\u001b[39m(label)] \u001b[38;5;28;01mfor\u001b[39;00m label \u001b[38;5;129;01min\u001b[39;00m labels]\n\u001b[1;32m     22\u001b[0m \u001b[38;5;66;03m#eval for pass\u001b[39;00m\n\u001b[0;32m---> 23\u001b[0m loss \u001b[38;5;241m=\u001b[39m \u001b[43mcriterion\u001b[49m\u001b[43m(\u001b[49m\u001b[43moutputs\u001b[49m\u001b[43m,\u001b[49m\u001b[43m \u001b[49m\u001b[43mlabels\u001b[49m\u001b[43m,\u001b[49m\u001b[43m \u001b[49m\u001b[43mweight\u001b[49m\u001b[38;5;241;43m=\u001b[39;49m\u001b[43mtorch\u001b[49m\u001b[38;5;241;43m.\u001b[39;49m\u001b[43mfrom_numpy\u001b[49m\u001b[43m(\u001b[49m\u001b[43mnp\u001b[49m\u001b[38;5;241;43m.\u001b[39;49m\u001b[43masarray\u001b[49m\u001b[43m(\u001b[49m\u001b[43mweights_list\u001b[49m\u001b[43m)\u001b[49m\u001b[43m)\u001b[49m\u001b[43m)\u001b[49m\n\u001b[1;32m     25\u001b[0m \u001b[38;5;66;03m#reset gradients for next pass\u001b[39;00m\n\u001b[1;32m     26\u001b[0m optimizer\u001b[38;5;241m.\u001b[39mzero_grad()\n",
      "Input \u001b[0;32mIn [415]\u001b[0m, in \u001b[0;36mcriterion\u001b[0;34m(outputs, labels, weight)\u001b[0m\n\u001b[1;32m      1\u001b[0m \u001b[38;5;28;01mdef\u001b[39;00m \u001b[38;5;21mcriterion\u001b[39m(outputs, labels, weight\u001b[38;5;241m=\u001b[39m\u001b[38;5;28;01mNone\u001b[39;00m):\n\u001b[1;32m      2\u001b[0m     \u001b[38;5;66;03m#weights are calculated per batch.\u001b[39;00m\n\u001b[0;32m----> 3\u001b[0m     \u001b[38;5;28;01mreturn\u001b[39;00m \u001b[43mnn\u001b[49m\u001b[38;5;241;43m.\u001b[39;49m\u001b[43mBCELoss\u001b[49m\u001b[43m(\u001b[49m\u001b[43mweight\u001b[49m\u001b[38;5;241;43m=\u001b[39;49m\u001b[43mweight\u001b[49m\u001b[43m)\u001b[49m\u001b[43m(\u001b[49m\u001b[43moutputs\u001b[49m\u001b[43m,\u001b[49m\u001b[43m \u001b[49m\u001b[43mlabels\u001b[49m\u001b[43m)\u001b[49m\n",
      "File \u001b[0;32m~/Software/anaconda3/envs/dl_gen_env/lib/python3.9/site-packages/torch/nn/modules/module.py:1110\u001b[0m, in \u001b[0;36mModule._call_impl\u001b[0;34m(self, *input, **kwargs)\u001b[0m\n\u001b[1;32m   1106\u001b[0m \u001b[38;5;66;03m# If we don't have any hooks, we want to skip the rest of the logic in\u001b[39;00m\n\u001b[1;32m   1107\u001b[0m \u001b[38;5;66;03m# this function, and just call forward.\u001b[39;00m\n\u001b[1;32m   1108\u001b[0m \u001b[38;5;28;01mif\u001b[39;00m \u001b[38;5;129;01mnot\u001b[39;00m (\u001b[38;5;28mself\u001b[39m\u001b[38;5;241m.\u001b[39m_backward_hooks \u001b[38;5;129;01mor\u001b[39;00m \u001b[38;5;28mself\u001b[39m\u001b[38;5;241m.\u001b[39m_forward_hooks \u001b[38;5;129;01mor\u001b[39;00m \u001b[38;5;28mself\u001b[39m\u001b[38;5;241m.\u001b[39m_forward_pre_hooks \u001b[38;5;129;01mor\u001b[39;00m _global_backward_hooks\n\u001b[1;32m   1109\u001b[0m         \u001b[38;5;129;01mor\u001b[39;00m _global_forward_hooks \u001b[38;5;129;01mor\u001b[39;00m _global_forward_pre_hooks):\n\u001b[0;32m-> 1110\u001b[0m     \u001b[38;5;28;01mreturn\u001b[39;00m \u001b[43mforward_call\u001b[49m\u001b[43m(\u001b[49m\u001b[38;5;241;43m*\u001b[39;49m\u001b[38;5;28;43minput\u001b[39;49m\u001b[43m,\u001b[49m\u001b[43m \u001b[49m\u001b[38;5;241;43m*\u001b[39;49m\u001b[38;5;241;43m*\u001b[39;49m\u001b[43mkwargs\u001b[49m\u001b[43m)\u001b[49m\n\u001b[1;32m   1111\u001b[0m \u001b[38;5;66;03m# Do not call functions when jit is used\u001b[39;00m\n\u001b[1;32m   1112\u001b[0m full_backward_hooks, non_full_backward_hooks \u001b[38;5;241m=\u001b[39m [], []\n",
      "File \u001b[0;32m~/Software/anaconda3/envs/dl_gen_env/lib/python3.9/site-packages/torch/nn/modules/loss.py:612\u001b[0m, in \u001b[0;36mBCELoss.forward\u001b[0;34m(self, input, target)\u001b[0m\n\u001b[1;32m    611\u001b[0m \u001b[38;5;28;01mdef\u001b[39;00m \u001b[38;5;21mforward\u001b[39m(\u001b[38;5;28mself\u001b[39m, \u001b[38;5;28minput\u001b[39m: Tensor, target: Tensor) \u001b[38;5;241m-\u001b[39m\u001b[38;5;241m>\u001b[39m Tensor:\n\u001b[0;32m--> 612\u001b[0m     \u001b[38;5;28;01mreturn\u001b[39;00m \u001b[43mF\u001b[49m\u001b[38;5;241;43m.\u001b[39;49m\u001b[43mbinary_cross_entropy\u001b[49m\u001b[43m(\u001b[49m\u001b[38;5;28;43minput\u001b[39;49m\u001b[43m,\u001b[49m\u001b[43m \u001b[49m\u001b[43mtarget\u001b[49m\u001b[43m,\u001b[49m\u001b[43m \u001b[49m\u001b[43mweight\u001b[49m\u001b[38;5;241;43m=\u001b[39;49m\u001b[38;5;28;43mself\u001b[39;49m\u001b[38;5;241;43m.\u001b[39;49m\u001b[43mweight\u001b[49m\u001b[43m,\u001b[49m\u001b[43m \u001b[49m\u001b[43mreduction\u001b[49m\u001b[38;5;241;43m=\u001b[39;49m\u001b[38;5;28;43mself\u001b[39;49m\u001b[38;5;241;43m.\u001b[39;49m\u001b[43mreduction\u001b[49m\u001b[43m)\u001b[49m\n",
      "File \u001b[0;32m~/Software/anaconda3/envs/dl_gen_env/lib/python3.9/site-packages/torch/nn/functional.py:3065\u001b[0m, in \u001b[0;36mbinary_cross_entropy\u001b[0;34m(input, target, weight, size_average, reduce, reduction)\u001b[0m\n\u001b[1;32m   3062\u001b[0m     new_size \u001b[38;5;241m=\u001b[39m _infer_size(target\u001b[38;5;241m.\u001b[39msize(), weight\u001b[38;5;241m.\u001b[39msize())\n\u001b[1;32m   3063\u001b[0m     weight \u001b[38;5;241m=\u001b[39m weight\u001b[38;5;241m.\u001b[39mexpand(new_size)\n\u001b[0;32m-> 3065\u001b[0m \u001b[38;5;28;01mreturn\u001b[39;00m \u001b[43mtorch\u001b[49m\u001b[38;5;241;43m.\u001b[39;49m\u001b[43m_C\u001b[49m\u001b[38;5;241;43m.\u001b[39;49m\u001b[43m_nn\u001b[49m\u001b[38;5;241;43m.\u001b[39;49m\u001b[43mbinary_cross_entropy\u001b[49m\u001b[43m(\u001b[49m\u001b[38;5;28;43minput\u001b[39;49m\u001b[43m,\u001b[49m\u001b[43m \u001b[49m\u001b[43mtarget\u001b[49m\u001b[43m,\u001b[49m\u001b[43m \u001b[49m\u001b[43mweight\u001b[49m\u001b[43m,\u001b[49m\u001b[43m \u001b[49m\u001b[43mreduction_enum\u001b[49m\u001b[43m)\u001b[49m\n",
      "\u001b[0;31mRuntimeError\u001b[0m: output with shape [200, 1] doesn't match the broadcast shape [200, 200]"
     ]
    }
   ],
   "source": [
    "model, history = train_network(model, optimizer, scheduler, \n",
    "                               CONFIG[\"device\"], CONFIG[\"epochs\"],\n",
    "                              train_loader, valid_loader)"
   ]
  },
  {
   "cell_type": "code",
   "execution_count": null,
   "id": "7c3253fb",
   "metadata": {},
   "outputs": [],
   "source": []
  },
  {
   "cell_type": "code",
   "execution_count": null,
   "id": "f8c4e541",
   "metadata": {},
   "outputs": [],
   "source": []
  },
  {
   "cell_type": "code",
   "execution_count": null,
   "id": "f1f67cee",
   "metadata": {},
   "outputs": [],
   "source": []
  },
  {
   "cell_type": "code",
   "execution_count": null,
   "id": "bbd83e82",
   "metadata": {},
   "outputs": [],
   "source": []
  },
  {
   "cell_type": "code",
   "execution_count": null,
   "id": "03d04dea",
   "metadata": {},
   "outputs": [],
   "source": []
  },
  {
   "cell_type": "code",
   "execution_count": null,
   "id": "b0163fe0",
   "metadata": {},
   "outputs": [],
   "source": []
  },
  {
   "cell_type": "code",
   "execution_count": 11,
   "id": "a6b2a034",
   "metadata": {},
   "outputs": [],
   "source": [
    "pathname = '/home/jonathan/Documents/Py_Projects/dl_gen_env/credit_card'\n",
    "filename = 'creditcard.csv'\n",
    "credit = pd.read_csv(os.path.join(pathname, filename), header=0)"
   ]
  },
  {
   "cell_type": "markdown",
   "id": "6cad1b33",
   "metadata": {},
   "source": [
    "Split the dataset into training and test datasets."
   ]
  },
  {
   "cell_type": "code",
   "execution_count": 15,
   "id": "ae4bb7e4",
   "metadata": {},
   "outputs": [
    {
     "name": "stdout",
     "output_type": "stream",
     "text": [
      "<class 'pandas.core.frame.DataFrame'>\n",
      "RangeIndex: 284807 entries, 0 to 284806\n",
      "Data columns (total 31 columns):\n",
      " #   Column  Non-Null Count   Dtype  \n",
      "---  ------  --------------   -----  \n",
      " 0   Time    284807 non-null  float64\n",
      " 1   V1      284807 non-null  float64\n",
      " 2   V2      284807 non-null  float64\n",
      " 3   V3      284807 non-null  float64\n",
      " 4   V4      284807 non-null  float64\n",
      " 5   V5      284807 non-null  float64\n",
      " 6   V6      284807 non-null  float64\n",
      " 7   V7      284807 non-null  float64\n",
      " 8   V8      284807 non-null  float64\n",
      " 9   V9      284807 non-null  float64\n",
      " 10  V10     284807 non-null  float64\n",
      " 11  V11     284807 non-null  float64\n",
      " 12  V12     284807 non-null  float64\n",
      " 13  V13     284807 non-null  float64\n",
      " 14  V14     284807 non-null  float64\n",
      " 15  V15     284807 non-null  float64\n",
      " 16  V16     284807 non-null  float64\n",
      " 17  V17     284807 non-null  float64\n",
      " 18  V18     284807 non-null  float64\n",
      " 19  V19     284807 non-null  float64\n",
      " 20  V20     284807 non-null  float64\n",
      " 21  V21     284807 non-null  float64\n",
      " 22  V22     284807 non-null  float64\n",
      " 23  V23     284807 non-null  float64\n",
      " 24  V24     284807 non-null  float64\n",
      " 25  V25     284807 non-null  float64\n",
      " 26  V26     284807 non-null  float64\n",
      " 27  V27     284807 non-null  float64\n",
      " 28  V28     284807 non-null  float64\n",
      " 29  Amount  284807 non-null  float64\n",
      " 30  Class   284807 non-null  int64  \n",
      "dtypes: float64(30), int64(1)\n",
      "memory usage: 67.4 MB\n"
     ]
    }
   ],
   "source": [
    "credit.info()"
   ]
  },
  {
   "cell_type": "code",
   "execution_count": null,
   "id": "22678e6f",
   "metadata": {},
   "outputs": [],
   "source": []
  }
 ],
 "metadata": {
  "kernelspec": {
   "display_name": "Python 3",
   "language": "python",
   "name": "python3"
  },
  "language_info": {
   "codemirror_mode": {
    "name": "ipython",
    "version": 3
   },
   "file_extension": ".py",
   "mimetype": "text/x-python",
   "name": "python",
   "nbconvert_exporter": "python",
   "pygments_lexer": "ipython3",
   "version": "3.9.7"
  }
 },
 "nbformat": 4,
 "nbformat_minor": 5
}
